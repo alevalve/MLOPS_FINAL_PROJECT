{
 "cells": [
  {
   "cell_type": "code",
   "execution_count": 37,
   "metadata": {},
   "outputs": [],
   "source": [
    "## Libraries\n",
    "import pandas as pd\n",
    "import numpy as np\n",
    "import sklearn as sk\n",
    "import datetime as dt\n",
    "import pickle\n",
    "import matplotlib.pyplot as plt\n",
    "from sklearn.feature_extraction import DictVectorizer\n",
    "from sklearn.linear_model import LinearRegression\n",
    "from sklearn.linear_model import Lasso\n",
    "from sklearn.linear_model import Ridge\n",
    "from sklearn.metrics import mean_squared_error\n",
    "import seaborn as sns\n",
    "import mlflow\n",
    "from hyperopt import fmin, tpe, hp, STATUS_OK, Trials\n",
    "from hyperopt.pyll import scope\n",
    "import argparse\n",
    "import os\n",
    "from sklearn.ensemble import RandomForestRegressor\n",
    "import argparse\n",
    "import pyarrow\n",
    "from hyperopt import hp, space_eval\n",
    "from hyperopt.pyll import scope\n",
    "from mlflow.entities import ViewType\n",
    "from mlflow.tracking import MlflowClient\n",
    "from datetime import datetime\n",
    "\n"
   ]
  },
  {
   "cell_type": "code",
   "execution_count": 4,
   "metadata": {},
   "outputs": [],
   "source": [
    "## Import Trip Data Yellow Records January, February, March\n",
    "db = pd.read_parquet(\"yellow_tripdata_2022-01.parquet\")\n",
    "db2 = pd.read_parquet(\"yellow_tripdata_2022-02.parquet\")\n",
    "db3 = pd.read_parquet(\"yellow_tripdata_2022-03.parquet\")"
   ]
  },
  {
   "cell_type": "code",
   "execution_count": 8,
   "metadata": {},
   "outputs": [],
   "source": [
    "## January data\n",
    "db['PULocationID']=db['PULocationID'].replace(np.nan, -1)\n",
    "db['DOLocationID']=db['DOLocationID'].replace(np.nan, -1)\n",
    "categorical = ['PULocationID', 'DOLocationID']\n",
    "db[categorical] = db[categorical].astype(str)\n",
    "db [\"duration\"] = (db.tpep_dropoff_datetime - db.tpep_pickup_datetime) / pd.Timedelta('1 minute')\n",
    "db = db[db['duration'] <= 60]"
   ]
  },
  {
   "cell_type": "code",
   "execution_count": 9,
   "metadata": {},
   "outputs": [],
   "source": [
    "## Clean january data and create some variables \n",
    "def preprocess(db: pd.DataFrame, dv: DictVectorizer, fit_dv: bool = False):\n",
    "    db['PU_DO'] = db['PULocationID'] + '_' + db['DOLocationID']\n",
    "    categorical = ['PU_DO']\n",
    "    numerical = ['trip_distance']\n",
    "    dicts = db[categorical + numerical].to_dict(orient='records')\n",
    "    if fit_dv:\n",
    "        X = dv.fit_transform(dicts)\n",
    "    else:\n",
    "        X = dv.transform(dicts)\n",
    "    return X, dv"
   ]
  },
  {
   "cell_type": "code",
   "execution_count": 10,
   "metadata": {},
   "outputs": [],
   "source": [
    "## February data\n",
    "db2['PULocationID']=db2['PULocationID'].replace(np.nan, -1)\n",
    "db2['DOLocationID']=db2['DOLocationID'].replace(np.nan, -1)\n",
    "categorical = ['PULocationID', 'DOLocationID']\n",
    "db2[categorical] = db2[categorical].astype(str)\n",
    "db2 [\"duration\"] = (db2.tpep_dropoff_datetime - db2.tpep_pickup_datetime) / pd.Timedelta('1 minute')\n",
    "db2 = db2[db2['duration'] <= 60]"
   ]
  },
  {
   "cell_type": "code",
   "execution_count": 11,
   "metadata": {},
   "outputs": [],
   "source": [
    "## Clean february\n",
    "#  data and create some variables \n",
    "def preprocess(db2: pd.DataFrame, dv: DictVectorizer, fit_dv: bool = False):\n",
    "    db2['PU_DO'] = db2['PULocationID'] + '_' + db2['DOLocationID']\n",
    "    categorical = ['PU_DO']\n",
    "    numerical = ['trip_distance']\n",
    "    dicts = db2[categorical + numerical].to_dict(orient='records')\n",
    "    if fit_dv:\n",
    "        X = dv.fit_transform(dicts)\n",
    "    else:\n",
    "        X = dv.transform(dicts)\n",
    "    return X, dv"
   ]
  },
  {
   "cell_type": "code",
   "execution_count": 12,
   "metadata": {},
   "outputs": [],
   "source": [
    "## March data\n",
    "db3['PULocationID']=db3['PULocationID'].replace(np.nan, -1)\n",
    "db3['DOLocationID']=db3['DOLocationID'].replace(np.nan, -1)\n",
    "categorical = ['PULocationID', 'DOLocationID']\n",
    "db3[categorical] = db3[categorical].astype(str)\n",
    "db3 [\"duration\"] = (db3.tpep_dropoff_datetime - db3.tpep_pickup_datetime) / pd.Timedelta('1 minute')\n",
    "db3 = db3[db3['duration'] <= 60]"
   ]
  },
  {
   "cell_type": "code",
   "execution_count": 13,
   "metadata": {},
   "outputs": [],
   "source": [
    "## Clean march data and create some variables \n",
    "def preprocess(db3: pd.DataFrame, dv: DictVectorizer, fit_dv: bool = False):\n",
    "    db3['PU_DO'] = db3['PULocationID'] + '_' + db3['DOLocationID']\n",
    "    categorical = ['PU_DO']\n",
    "    numerical = ['trip_distance']\n",
    "    dicts = db3[categorical + numerical].to_dict(orient='records')\n",
    "    if fit_dv:\n",
    "        X = dv.fit_transform(dicts)\n",
    "    else:\n",
    "        X = dv.transform(dicts)\n",
    "    return X, dv"
   ]
  },
  {
   "cell_type": "code",
   "execution_count": 17,
   "metadata": {},
   "outputs": [
    {
     "name": "stderr",
     "output_type": "stream",
     "text": [
      "/var/folders/cc/95xr6jg14jx5tk_0cr2yyj900000gn/T/ipykernel_2818/1734027145.py:3: SettingWithCopyWarning: \n",
      "A value is trying to be set on a copy of a slice from a DataFrame.\n",
      "Try using .loc[row_indexer,col_indexer] = value instead\n",
      "\n",
      "See the caveats in the documentation: https://pandas.pydata.org/pandas-docs/stable/user_guide/indexing.html#returning-a-view-versus-a-copy\n",
      "  db3['PU_DO'] = db3['PULocationID'] + '_' + db3['DOLocationID']\n"
     ]
    }
   ],
   "source": [
    "## Create dependent variable (duration)\n",
    "target = 'duration'\n",
    "y_train = db[target].values\n",
    "y_valid = db2[target].values\n",
    "y_test = db3[target].values\n",
    "\n",
    "## Vectorize the data sets    \n",
    "dv = DictVectorizer()\n",
    "X_train, dv = preprocess(db, dv, fit_dv=True)\n",
    "X_valid, _ = preprocess(db2, dv, fit_dv=False)\n",
    "X_test, _ = preprocess(db3, dv, fit_dv=False)\n",
    "\n",
    "## Define dump_pickle\n",
    "def dump_pickle(obj, filename):\n",
    "    with open(filename, \"wb\") as f_out:\n",
    "        return pickle.dump(obj, f_out)\n",
    "\n",
    "    ## Save dictvectorizer and datasets\n",
    "    \n",
    "dump_pickle(dv, os.path.join('/Users/agvg/Documents/DS/MLOPS/MLOPS/Final_Project', \"dv.pkl\"))\n",
    "dump_pickle((X_train, y_train), os.path.join('/Users/agvg/Documents/DS/MLOPS/MLOPS/Final_Project', \"train.pkl\"))\n",
    "dump_pickle((X_valid, y_valid), os.path.join('/Users/agvg/Documents/DS/MLOPS/MLOPS/Final_Project', \"valid.pkl\"))\n",
    "dump_pickle((X_test, y_test), os.path.join('/Users/agvg/Documents/DS/MLOPS/MLOPS/Final_Project', \"test.pkl\"))\n",
    "\n",
    "## Load_Pickle \n",
    "def load_pickle(filename: str):\n",
    "    with open(filename, \"rb\") as f_in:\n",
    "        return pickle.load(f_in)"
   ]
  },
  {
   "cell_type": "code",
   "execution_count": 27,
   "metadata": {},
   "outputs": [],
   "source": [
    "## MLFLOW\n",
    "import mlflow\n",
    "\n",
    "\n",
    "MLFLOW_TRACKING_URI = \"sqlite:///mlflow.db\"\n",
    "mlflow.set_tracking_uri = \"sqlite:///mlflow.db\"\n",
    "mlflow.set_experiment = \"LR-experiment\""
   ]
  },
  {
   "cell_type": "code",
   "execution_count": 25,
   "metadata": {},
   "outputs": [
    {
     "name": "stderr",
     "output_type": "stream",
     "text": [
      "2022/08/08 10:27:20 INFO mlflow.tracking.fluent: Autologging successfully enabled for xgboost.\n"
     ]
    },
    {
     "name": "stdout",
     "output_type": "stream",
     "text": [
      "5.69904796709038\n",
      "38.373549303242505\n"
     ]
    }
   ],
   "source": [
    "## Run model\n",
    "\n",
    "HPO_EXPERIMENT_NAME = \"LR-Model\"\n",
    "EXPERIMENT_NAME = \"LR-Best-Model\"\n",
    "\n",
    "mlflow.autolog()\n",
    "\n",
    "with mlflow.start_run():\n",
    "                mlflow.set_tag(\"model\",\"alexander\")\n",
    "                lr = LinearRegression()\n",
    "                lr.fit(X_train, y_train)\n",
    "                y_pred = lr.predict(X_train)\n",
    "                rmse = mean_squared_error(y_train, y_pred, squared=False)\n",
    "                mlflow.log_metric(\"rmse\",rmse)\n",
    "\n",
    "                valid_rmse = mean_squared_error(y_valid, lr.predict(X_valid), squared=False)\n",
    "                mlflow.log_metric(\"valid_rmse\", valid_rmse)\n",
    "                print(valid_rmse)\n",
    "                test_rmse = mean_squared_error(y_test, lr.predict(X_test), squared=False)\n",
    "                mlflow.log_metric(\"test_rmse\", test_rmse)\n",
    "                print(test_rmse)\n",
    "\n",
    "client = MlflowClient()\n",
    "\n",
    "\n",
    "\n"
   ]
  },
  {
   "cell_type": "code",
   "execution_count": 40,
   "metadata": {},
   "outputs": [
    {
     "name": "stderr",
     "output_type": "stream",
     "text": [
      "Registered model 'nyc_yellow_taxi_regressor' already exists. Creating a new version of this model...\n",
      "2022/08/08 18:41:38 INFO mlflow.tracking._model_registry.client: Waiting up to 300 seconds for model version to finish creation.                     Model name: nyc_yellow_taxi_regressor, version 7\n",
      "Created version '7' of model 'nyc_yellow_taxi_regressor'.\n"
     ]
    },
    {
     "name": "stdout",
     "output_type": "stream",
     "text": [
      "runs:/bd6492e7973448fab5e8474c68259c62/model\n",
      "version: None, stage: None\n",
      "version: Staging, stage: Staging\n"
     ]
    },
    {
     "data": {
      "text/plain": [
       "<ModelVersion: creation_timestamp=1660005698704, current_stage='Production', description='The model version 7 was transitioned to Staging on 2022-08-08', last_updated_timestamp=1660005698806, name='nyc_yellow_taxi_regressor', run_id='bd6492e7973448fab5e8474c68259c62', run_link=None, source='./mlruns/1/bd6492e7973448fab5e8474c68259c62/artifacts/model', status='READY', status_message=None, tags={}, user_id=None, version=7>"
      ]
     },
     "execution_count": 40,
     "metadata": {},
     "output_type": "execute_result"
    }
   ],
   "source": [
    "## Model and Run_id\n",
    "run_id = 'bd6492e7973448fab5e8474c68259c62'\n",
    "model_uri = f\"runs:/{run_id}/model\"\n",
    "mlflow.register_model(model_uri=model_uri, name=\"nyc_yellow_taxi_regressor\")\n",
    "print(model_uri)\n",
    "\n",
    "model_name=\"nyc_yellow_taxi_regressor\"\n",
    "latest_versions = client.get_latest_versions(name=model_name)\n",
    "\n",
    "for version in latest_versions:\n",
    "    print(f\"version: {version.current_stage}, stage: {version.current_stage}\")\n",
    "\n",
    "## Put the model in staging\n",
    "\n",
    "model_version = 7\n",
    "new_stage= \"Staging\"\n",
    "client.transition_model_version_stage(\n",
    "    name=model_name,\n",
    "    version=model_version,\n",
    "    stage=new_stage,\n",
    "    archive_existing_versions=False\n",
    ")\n",
    "\n",
    "date = datetime.today().date()\n",
    "client.update_model_version(\n",
    "    name=model_name,\n",
    "    version=model_version,\n",
    "    description=f\"The model version {model_version} was transitioned to {new_stage} on {date}\")\n",
    "\n",
    "## Save the models remotely \n",
    "data_path='/Users/agvg/Documents/DS/MLOPS/MLOPS/FINAL_PROJECT'\n",
    "params = '/Users/agvg/Documents/DS/MLOPS/MLOPS/FINAL_PROJECT/artifacts'\n",
    "preprocessor= '/Users/agvg/Documents/DS/MLOPS/MLOPS/FINAL_PROJECT/models'\n",
    "\n",
    "client.download_artifacts(run_id=run_id, path=preprocessor, dst_path='.')\n",
    "\n",
    "## Production \n",
    "\n",
    "client.transition_model_version_stage(\n",
    "    name=model_name,\n",
    "    version=7,\n",
    "    stage=\"Production\",\n",
    "    archive_existing_versions=True\n",
    ")\n",
    "\n",
    "\n"
   ]
  }
 ],
 "metadata": {
  "interpreter": {
   "hash": "c038a867bd1802c21922bafc2ce5bf74970f2cd19e863edeaabfa8983452c32e"
  },
  "kernelspec": {
   "display_name": "Python 3.9.12 ('MLOPS')",
   "language": "python",
   "name": "python3"
  },
  "language_info": {
   "codemirror_mode": {
    "name": "ipython",
    "version": 3
   },
   "file_extension": ".py",
   "mimetype": "text/x-python",
   "name": "python",
   "nbconvert_exporter": "python",
   "pygments_lexer": "ipython3",
   "version": "3.9.12"
  },
  "orig_nbformat": 4
 },
 "nbformat": 4,
 "nbformat_minor": 2
}
